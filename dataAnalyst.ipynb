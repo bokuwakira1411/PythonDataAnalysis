{
 "cells": [
  {
   "cell_type": "code",
   "execution_count": 1,
   "metadata": {},
   "outputs": [],
   "source": [
    "import os\n",
    "import pandas as pd\n",
    "df = pd.read_csv(os.path.join('commit_data.csv'))\n",
    "pr_df = pd.read_csv(os.path.join('pr.csv'))\n",
    "issue_df = pd.read_csv(os.path.join('issue.csv'))"
   ]
  },
  {
   "cell_type": "code",
   "execution_count": null,
   "metadata": {},
   "outputs": [],
   "source": [
    "import datetime \n",
    "import matplotlib.pyplot as plt\n",
    "import seaborn as sns\n",
    "import seaborn.objects as so\n",
    "start = datetime.datetime(2022, 1, 1)\n",
    "end = datetime.datetime(2024, 7, 6)"
   ]
  },
  {
   "cell_type": "markdown",
   "metadata": {},
   "source": [
    "COMMITS"
   ]
  },
  {
   "cell_type": "code",
   "execution_count": null,
   "metadata": {},
   "outputs": [],
   "source": [
    "df['Updated_at'] = pd.to_datetime(df['Updated_at'])\n",
    "commit_counts = df.groupby(df['Updated_at'].dt.date).size()\n",
    "commit_counts = commit_counts.reset_index(name = 'Commit_count')\n",
    "commit_counts"
   ]
  },
  {
   "cell_type": "markdown",
   "metadata": {},
   "source": [
    "Các biểu đồ tổng quát"
   ]
  },
  {
   "cell_type": "code",
   "execution_count": null,
   "metadata": {},
   "outputs": [],
   "source": [
    "sns.histplot(commit_counts[\"Commit_count\"], color = 'green',kde=True)\n",
    "plt.title(\"Commit count vs Count(Commit count)\")\n",
    "plt.show()"
   ]
  },
  {
   "cell_type": "code",
   "execution_count": null,
   "metadata": {},
   "outputs": [],
   "source": [
    "sns.kdeplot(data=commit_counts['Commit_count'], color = 'red')\n",
    "plt.title('Density_commits')\n",
    "plt.show()"
   ]
  },
  {
   "cell_type": "code",
   "execution_count": null,
   "metadata": {},
   "outputs": [],
   "source": [
    "plt.figure(figsize=(20, 6))\n",
    "sns.lineplot(data=commit_counts, x='Updated_at', y='Commit_count')\n",
    "plt.title(\"Number of Commits Over Days\")\n",
    "plt.xlabel('Updated at')\n",
    "plt.ylabel(\"Number of Commits\")\n",
    "plt.show()"
   ]
  },
  {
   "cell_type": "code",
   "execution_count": null,
   "metadata": {},
   "outputs": [],
   "source": []
  },
  {
   "cell_type": "markdown",
   "metadata": {},
   "source": [
    "CONTRIBUTORS"
   ]
  },
  {
   "cell_type": "markdown",
   "metadata": {},
   "source": [
    "Tổng số contributors đã đóng góp cho repo"
   ]
  },
  {
   "cell_type": "code",
   "execution_count": null,
   "metadata": {},
   "outputs": [],
   "source": [
    "df['Contributor'].nunique()"
   ]
  },
  {
   "cell_type": "markdown",
   "metadata": {},
   "source": [
    "Người đóng góp nhiều commit nhất và % trên tổng số commit"
   ]
  },
  {
   "cell_type": "code",
   "execution_count": 5,
   "metadata": {},
   "outputs": [
    {
     "name": "stdout",
     "output_type": "stream",
     "text": [
      "contributor\n",
      "NamedUser(login=\"alextran1502\")    0.395809\n",
      "Name: count, dtype: float64\n"
     ]
    }
   ],
   "source": [
    "max_commits = df['contributor'].value_counts().head(1)\n",
    "len(df.index)\n",
    "percentageContribution = max_commits/len(df.index)\n",
    "print(percentageContribution)"
   ]
  },
  {
   "cell_type": "markdown",
   "metadata": {},
   "source": [
    "Thời gian hoạt động của các contributor"
   ]
  },
  {
   "cell_type": "code",
   "execution_count": 4,
   "metadata": {},
   "outputs": [
    {
     "name": "stdout",
     "output_type": "stream",
     "text": [
      "                                   min                 max\n",
      "author                                                    \n",
      "Alex               2022-02-08 05:42:35 2024-06-03 21:00:20\n",
      "Alex The Bot       2023-05-09 02:08:01 2024-04-05 02:39:51\n",
      "Alex Tran          2022-02-07 21:06:30 2024-03-07 18:04:54\n",
      "Alexandre Bouijoux 2023-09-08 06:48:39 2023-09-08 06:48:39\n",
      "Andrew Roberts     2024-03-08 19:05:15 2024-03-08 19:05:15\n",
      "...                                ...                 ...\n",
      "shenlong           2023-10-07 10:17:50 2024-02-08 03:07:43\n",
      "twitsforbrains     2023-03-14 19:12:42 2023-03-14 19:12:42\n",
      "vovchyk bratyk     2024-05-07 20:17:21 2024-05-07 20:17:21\n",
      "waclaw66           2023-08-10 13:32:01 2023-08-10 13:32:01\n",
      "wittymap           2023-06-05 13:56:39 2023-06-05 13:56:39\n",
      "\n",
      "[126 rows x 2 columns]\n"
     ]
    }
   ],
   "source": [
    "df['date'] = pd.to_datetime(df['date'])\n",
    "times = df.groupby('author')['date'].agg(['min', 'max'])\n",
    "print(times)"
   ]
  },
  {
   "cell_type": "markdown",
   "metadata": {},
   "source": [
    "Top 5 người commit nhiều nhất"
   ]
  },
  {
   "cell_type": "code",
   "execution_count": null,
   "metadata": {},
   "outputs": [],
   "source": [
    "commit_count = df['author'].value_counts()\n",
    "commit_count.head(5)"
   ]
  },
  {
   "cell_type": "markdown",
   "metadata": {},
   "source": [
    "Top 5 người commit nhiều file nhất"
   ]
  },
  {
   "cell_type": "code",
   "execution_count": null,
   "metadata": {},
   "outputs": [],
   "source": [
    "df_temp = df.sort_values('filename', ascending = False)\n",
    "df_temp.head(5)"
   ]
  },
  {
   "cell_type": "markdown",
   "metadata": {},
   "source": [
    "Top 5 người thay đổi nhiều file nhất trong 1 lần"
   ]
  },
  {
   "cell_type": "code",
   "execution_count": null,
   "metadata": {},
   "outputs": [],
   "source": [
    "df_temp = df.sort_values('files changed', ascending = False)\n",
    "df_temp.head(5)"
   ]
  },
  {
   "cell_type": "markdown",
   "metadata": {},
   "source": [
    "Top 5 người có nhiều từ nhất trong commit message"
   ]
  },
  {
   "cell_type": "code",
   "execution_count": null,
   "metadata": {},
   "outputs": [],
   "source": [
    "df_temp = df.sort_values('additions', ascending = False)\n",
    "df_temp.head(5)"
   ]
  },
  {
   "cell_type": "markdown",
   "metadata": {},
   "source": [
    "top 5 người có số lần all checks passed cao nhất và tỉ lệ all checks passed/ số lần commit"
   ]
  },
  {
   "cell_type": "code",
   "execution_count": null,
   "metadata": {},
   "outputs": [],
   "source": [
    "top_all_checks_passed = df[df[\"all_checks_passed\"]]\n",
    "top_all_checks_passed = top_all_checks_passed['author'].value_counts()\n",
    "list_tmp = top_all_checks_passed.head(5)\n",
    "list_tmp"
   ]
  },
  {
   "cell_type": "code",
   "execution_count": null,
   "metadata": {},
   "outputs": [],
   "source": [
    "df_temp = pd.merge(top_all_checks_passed, commit_count, on=\"author\", how=\"inner\").head(5)\n",
    "df_temp['scale'] = df_temp['count_x']/df_temp['count_y']\n",
    "df_temp"
   ]
  },
  {
   "cell_type": "markdown",
   "metadata": {},
   "source": [
    "top 5 đuôi email nhiều người dùng nhất"
   ]
  },
  {
   "cell_type": "code",
   "execution_count": null,
   "metadata": {},
   "outputs": [],
   "source": [
    "df['email_types'] = df['email'].str.extract(r'@([\\w\\.-]+)', expand=False)\n",
    "df['email_types'].value_counts()"
   ]
  },
  {
   "cell_type": "markdown",
   "metadata": {},
   "source": [
    "Người hoạt động đều đặn nhất- người có thời gian đóng góp dài nhất"
   ]
  },
  {
   "cell_type": "code",
   "execution_count": null,
   "metadata": {},
   "outputs": [],
   "source": []
  },
  {
   "cell_type": "markdown",
   "metadata": {},
   "source": [
    "ISSUES"
   ]
  },
  {
   "cell_type": "markdown",
   "metadata": {},
   "source": [
    "Tổng số issues đã được mở và đóng góp trong repo này:"
   ]
  },
  {
   "cell_type": "code",
   "execution_count": null,
   "metadata": {},
   "outputs": [],
   "source": [
    "issue_df.shape[0]"
   ]
  },
  {
   "cell_type": "markdown",
   "metadata": {},
   "source": [
    "Thời gian trung bình để một issue được giải quyết"
   ]
  },
  {
   "cell_type": "code",
   "execution_count": null,
   "metadata": {},
   "outputs": [],
   "source": [
    "issue_df['duration'] = pd.to_datetime(issue_df['Closed_at'])-pd.to_datetime(issue_df['Created_at'])\n",
    "issue_df['duration'].mean()"
   ]
  },
  {
   "cell_type": "code",
   "execution_count": null,
   "metadata": {},
   "outputs": [],
   "source": [
    "issue_df['State'].value_counts() "
   ]
  },
  {
   "cell_type": "markdown",
   "metadata": {},
   "source": [
    "PULL REQUEST"
   ]
  },
  {
   "cell_type": "markdown",
   "metadata": {},
   "source": [
    "Tổng số pull request đã được tạo ra và merge"
   ]
  },
  {
   "cell_type": "code",
   "execution_count": null,
   "metadata": {},
   "outputs": [],
   "source": [
    "pr_df.shape[0]"
   ]
  },
  {
   "cell_type": "code",
   "execution_count": null,
   "metadata": {},
   "outputs": [],
   "source": [
    "len(pr_df[pr_df['Merged_at'].notnull()])"
   ]
  },
  {
   "cell_type": "markdown",
   "metadata": {},
   "source": [
    "pull request đã bị reject"
   ]
  },
  {
   "cell_type": "code",
   "execution_count": null,
   "metadata": {},
   "outputs": [],
   "source": [
    "len(pr_df[(pr_df['Merged_at'].isnull()) & (pr_df['Pr_state'] != 'open')])"
   ]
  },
  {
   "cell_type": "markdown",
   "metadata": {},
   "source": [
    "LANGUAGES"
   ]
  },
  {
   "cell_type": "markdown",
   "metadata": {},
   "source": [
    "Ngôn ngữ lập trình được sử dụng"
   ]
  },
  {
   "cell_type": "code",
   "execution_count": null,
   "metadata": {},
   "outputs": [],
   "source": []
  },
  {
   "cell_type": "markdown",
   "metadata": {},
   "source": [
    "Vẽ biểu đồ pie thể hiện tỷ lệ các ngôn ngữ lập trình được sử dụng trong repo này"
   ]
  },
  {
   "cell_type": "code",
   "execution_count": null,
   "metadata": {},
   "outputs": [],
   "source": []
  },
  {
   "cell_type": "markdown",
   "metadata": {},
   "source": [
    "FILES"
   ]
  },
  {
   "cell_type": "markdown",
   "metadata": {},
   "source": [
    "Các files trong repo có nhiều commits nhất"
   ]
  },
  {
   "cell_type": "code",
   "execution_count": null,
   "metadata": {},
   "outputs": [],
   "source": [
    "df_exploded = df.explode('filename')\n",
    "file_counts = df_exploded['filename'].value_counts()\n",
    "file_counts"
   ]
  },
  {
   "cell_type": "markdown",
   "metadata": {},
   "source": [
    "Kích thước trung bình của các files"
   ]
  },
  {
   "cell_type": "code",
   "execution_count": null,
   "metadata": {},
   "outputs": [],
   "source": []
  },
  {
   "cell_type": "markdown",
   "metadata": {},
   "source": [
    "Tăng trưởng repo"
   ]
  },
  {
   "cell_type": "markdown",
   "metadata": {},
   "source": [
    "Theo số lượng commits và contributors"
   ]
  },
  {
   "cell_type": "code",
   "execution_count": null,
   "metadata": {},
   "outputs": [],
   "source": []
  },
  {
   "cell_type": "markdown",
   "metadata": {},
   "source": [
    "Nhận xét các giai đoạn nổi bật"
   ]
  },
  {
   "cell_type": "markdown",
   "metadata": {},
   "source": [
    "Dự đoán"
   ]
  },
  {
   "cell_type": "markdown",
   "metadata": {},
   "source": [
    "Phân tích mạng lưới cộng tác: Vẽ mạng lưới (network graph) thể hiện sự cộng tác giữa các contributors. Ai là người có nhiều kết nối nhất"
   ]
  },
  {
   "cell_type": "code",
   "execution_count": null,
   "metadata": {},
   "outputs": [],
   "source": []
  },
  {
   "cell_type": "markdown",
   "metadata": {},
   "source": [
    "VISUALIZATION"
   ]
  },
  {
   "cell_type": "markdown",
   "metadata": {},
   "source": [
    "Relationships between commits and contributors"
   ]
  },
  {
   "cell_type": "code",
   "execution_count": null,
   "metadata": {},
   "outputs": [],
   "source": [
    "commit_contributor = pd.DataFrame()\n",
    "commit_contributor['commits'] = df['author'].value_counts()\n",
    "commit_contributor"
   ]
  },
  {
   "cell_type": "code",
   "execution_count": null,
   "metadata": {},
   "outputs": [],
   "source": [
    "plt.figure(figsize=(50, 20))\n",
    "colors = sns.color_palette(\"pastel\", len(df['author'].value_counts().head(10))) \n",
    "sns.countplot(data=df, x='author', order=df['author'].value_counts().head(10).index, palette=colors)\n",
    "plt.xticks(rotation=45, ha='right', fontsize=40) \n",
    "plt.yticks(fontsize=40) \n",
    "plt.xlabel('Author', fontsize=70)\n",
    "plt.ylabel('Count', fontsize=70) \n",
    "plt.show()"
   ]
  },
  {
   "cell_type": "code",
   "execution_count": null,
   "metadata": {},
   "outputs": [],
   "source": [
    "so.Plot(df,\"additions\", edgestyle='').scale(x='log').add(so.Bar(), so.Hist())"
   ]
  },
  {
   "cell_type": "code",
   "execution_count": null,
   "metadata": {},
   "outputs": [],
   "source": [
    "pr_df['Rejected'] = (pr_df['Merged_at'].isnull()) & (pr_df['Pr_state'] != 'open')\n",
    "sns.scatterplot(data=pr_df, x='Commits', y='Addititions', hue='Rejected', style = 'Rejected')"
   ]
  }
 ],
 "metadata": {
  "kernelspec": {
   "display_name": "Python 3",
   "language": "python",
   "name": "python3"
  },
  "language_info": {
   "codemirror_mode": {
    "name": "ipython",
    "version": 3
   },
   "file_extension": ".py",
   "mimetype": "text/x-python",
   "name": "python",
   "nbconvert_exporter": "python",
   "pygments_lexer": "ipython3",
   "version": "3.12.2"
  }
 },
 "nbformat": 4,
 "nbformat_minor": 2
}
